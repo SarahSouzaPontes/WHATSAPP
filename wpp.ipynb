{
  "nbformat": 4,
  "nbformat_minor": 0,
  "metadata": {
    "colab": {
      "provenance": [],
      "authorship_tag": "ABX9TyPedehuVPjVofptD54n2B8w",
      "include_colab_link": true
    },
    "kernelspec": {
      "name": "python3",
      "display_name": "Python 3"
    },
    "language_info": {
      "name": "python"
    }
  },
  "cells": [
    {
      "cell_type": "markdown",
      "metadata": {
        "id": "view-in-github",
        "colab_type": "text"
      },
      "source": [
        "<a href=\"https://colab.research.google.com/github/SarahSouzaPontes/WHATSAPP/blob/main/wpp.ipynb\" target=\"_parent\"><img src=\"https://colab.research.google.com/assets/colab-badge.svg\" alt=\"Open In Colab\"/></a>"
      ]
    },
    {
      "cell_type": "code",
      "execution_count": null,
      "metadata": {
        "id": "IRhc3jDOyrQb"
      },
      "outputs": [],
      "source": [
        "#INCOMPATIVEL COM COLAB (PYCHARM)\n",
        "#----------------Instalando pacote-----------------------------------------------------------------------\n",
        "import pywhatkit as kt\n",
        "import datetime\n",
        "#------------ Número de Telefone--------------------------------------------------------------------------\n",
        "phone_number = '+5511999999999'\n",
        "#Se for para uma lista de números incluir um for para percorrer a lista\n",
        "#------------Obtém a hora atual-----------------------------------------------------------------------------\n",
        "hora_atual = datetime.datetime.now().hour\n",
        "\n",
        "#-----------Obtém o minuto atual--------------------------------------------------------------------------\n",
        "minuto_atual = datetime.datetime.now().minute\n",
        "\n",
        "#--------------------------------Soma 60 segundos aos minutos atuais------------------------------------------\n",
        "minuto_atual = minuto_atual + 1  # Adiciona 1 minuto (60 segundos)\n",
        "\n",
        "#----------------Se os minutos ultrapassarem 59 após a soma, ajuste as horas e os minutos---------------------\n",
        "if minuto_atual >= 60:\n",
        "    hora_atual = hora_atual + 1\n",
        "    minuto_atual = minuto_atual - 60\n",
        "\n",
        "#---------Envia a imagem sem legenda----------------------------------------------------------------------------\n",
        "image_path = r'C:\\Users\\Sarah.Pontes\\Downloads\\DOC.PNG.png'  # caminho\n",
        "#-------------------------------- Enviar mensagem--------------------------------------------------------------\n",
        "#código abaixo para enviar mensagem ao grupo\n",
        "# kt.sendwhatmsg( 'NÚMERO TELEFONE' ,'MSG', 'hora envio', 'minuto envio','temp envio', 'ABRIR&FECHAR O WPP', 'qnt tempo para fechar')\n",
        "#kt.sendwhats_image(phone_number, phone_number)\n",
        "kt.sendwhats_image(phone_number, image_path, \"Segue imagem do dashboard\")\n",
        "#kt.sendwhatmsg(phone_number, \" teste\", hora_atual, minuto_atual, 5, True, 5)\n",
        "\n",
        "\n",
        "#---------------------------------------------------FIM-----------------------------------------------------------\n",
        "\n",
        "\n",
        "\n"
      ]
    }
  ]
}
